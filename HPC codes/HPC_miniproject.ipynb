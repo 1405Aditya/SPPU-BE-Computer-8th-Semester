{
 "cells": [
  {
   "cell_type": "code",
   "execution_count": 3,
   "metadata": {
    "id": "vg9bNJ_zXVPL"
   },
   "outputs": [],
   "source": [
    "import random\n",
    "import time\n",
    "\n",
    "def quicksort(arr):\n",
    "    if len(arr) <= 1:\n",
    "        return arr\n",
    "    pivot = arr[0]\n",
    "    less = [x for x in arr[1:] if x <= pivot]\n",
    "    greater = [x for x in arr[1:] if x > pivot]\n",
    "    return quicksort(less) + [pivot] + quicksort(greater)\n",
    "\n",
    "def parallel_quicksort(arr, depth=0, max_depth=2):\n",
    "    if len(arr) <= 100_000 or depth >= max_depth:\n",
    "        return quicksort(arr)\n",
    "\n",
    "    pivot = arr[0]\n",
    "    less = [x for x in arr[1:] if x <= pivot]\n",
    "    greater = [x for x in arr[1:] if x > pivot]\n",
    "\n",
    "    with concurrent.futures.ThreadPoolExecutor(max_workers=2) as executor:\n",
    "        less_future = executor.submit(parallel_quicksort, less, depth + 1, max_depth)\n",
    "        greater_future = executor.submit(parallel_quicksort, greater, depth + 1, max_depth)\n",
    "\n",
    "        return less_future.result() + [pivot] + greater_future.result()\n"
   ]
  },
  {
   "cell_type": "code",
   "execution_count": 4,
   "metadata": {
    "colab": {
     "base_uri": "https://localhost:8080/"
    },
    "id": "fGUnDKquYmxz",
    "outputId": "8791eba8-78fb-41c5-8a17-be9174624374"
   },
   "outputs": [
    {
     "name": "stdout",
     "output_type": "stream",
     "text": [
      "#Prajwal Gadhave BACO21145\n",
      "Sequential time: 0.6307787895202637\n",
      "Parallel time: 0.6155099868774414\n"
     ]
    }
   ],
   "source": [
    "size = 100000\n",
    "arr = [random.randint(0, 1000) for _ in range(size)]\n",
    "print(\"#Prajwal Gadhave BACO21145\")\n",
    "# Sequential\n",
    "start = time.time()\n",
    "sorted_seq = quicksort(arr)\n",
    "print(\"Sequential time:\", time.time() - start)\n",
    "\n",
    "# Parallel (Threaded)\n",
    "start = time.time()\n",
    "sorted_par = parallel_quicksort(arr)\n",
    "print(\"Parallel time:\", time.time() - start)\n"
   ]
  },
  {
   "cell_type": "code",
   "execution_count": null,
   "metadata": {
    "id": "QQElZQw4YQsm"
   },
   "outputs": [],
   "source": []
  }
 ],
 "metadata": {
  "colab": {
   "provenance": []
  },
  "kernelspec": {
   "display_name": "Python 3 (ipykernel)",
   "language": "python",
   "name": "python3"
  },
  "language_info": {
   "codemirror_mode": {
    "name": "ipython",
    "version": 3
   },
   "file_extension": ".py",
   "mimetype": "text/x-python",
   "name": "python",
   "nbconvert_exporter": "python",
   "pygments_lexer": "ipython3",
   "version": "3.11.5"
  }
 },
 "nbformat": 4,
 "nbformat_minor": 1
}
